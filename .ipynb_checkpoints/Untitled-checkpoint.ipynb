{
 "cells": [
  {
   "cell_type": "code",
   "execution_count": 66,
   "metadata": {},
   "outputs": [],
   "source": [
    "import pandas as pd\n",
    "import csv\n",
    "\n",
    "\n",
    "area = pd.read_excel('area.xls', header= 2)\n",
    "pop = pd.read_excel('pop.xls', header = 2)\n",
    "area1=area.drop('Indicator Code', axis=1).drop('Indicator Name', axis=1).drop('Country Code', axis=1)\n",
    "areaClean=pd.melt(area1, id_vars=[\"Country Name\"], var_name=\"Year\", value_name=\"Area\")"
   ]
  },
  {
   "cell_type": "code",
   "execution_count": 65,
   "metadata": {},
   "outputs": [],
   "source": [
    "pop1=pop.drop('Indicator Code', axis=1).drop('Indicator Name', axis=1).drop('Country Code', axis=1)\n",
    "popClean=pd.melt(pop1, id_vars=[\"Country Name\"], var_name=\"Year\", value_name=\"Pop\")"
   ]
  },
  {
   "cell_type": "code",
   "execution_count": 68,
   "metadata": {},
   "outputs": [],
   "source": [
    "areapop=pd.merge(popClean, areaClean)"
   ]
  },
  {
   "cell_type": "code",
   "execution_count": null,
   "metadata": {
    "collapsed": true
   },
   "outputs": [],
   "source": []
  }
 ],
 "metadata": {
  "kernelspec": {
   "display_name": "Python 3",
   "language": "python",
   "name": "python3"
  },
  "language_info": {
   "codemirror_mode": {
    "name": "ipython",
    "version": 3
   },
   "file_extension": ".py",
   "mimetype": "text/x-python",
   "name": "python",
   "nbconvert_exporter": "python",
   "pygments_lexer": "ipython3",
   "version": "3.6.2"
  }
 },
 "nbformat": 4,
 "nbformat_minor": 2
}
